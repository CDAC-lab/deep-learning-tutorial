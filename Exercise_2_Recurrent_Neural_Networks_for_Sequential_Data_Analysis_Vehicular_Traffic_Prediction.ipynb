{
  "nbformat": 4,
  "nbformat_minor": 0,
  "metadata": {
    "colab": {
      "name": "Exercise 2 - Recurrent Neural Networks for Sequential Data Analysis - Vehicular Traffic Prediction",
      "provenance": [],
      "collapsed_sections": [],
      "toc_visible": true
    },
    "kernelspec": {
      "name": "python3",
      "display_name": "Python 3"
    }
  },
  "cells": [
    {
      "cell_type": "markdown",
      "metadata": {
        "id": "qKMa10tYg9k-",
        "colab_type": "text"
      },
      "source": [
        "# Exercise 2 - Recurrent Neural Networks for Sequential Data Analysis - Vehicular Traffic Prediction\n",
        "\n",
        "In this tutorial we will conduct traffic flow prediction using Recurrent Neural Network.\n",
        "\n",
        "**Dataset:**\n",
        "The information on traffic has been acquired from the Bluetooth traffic monitoring system (BTMS) that is used to monitor the road traffic of arterial roads in Victoria, Australia. BTMS consists of a network of Bluetooth traffic scanners that are placed in the junctions of arterial roads. These Bluetooth scanners capture the Bluetooth devices that transit the scanning zone, which are either Bluetooth enabled vehicle stereo systems or the mobile devices of the occupants. The dataset was obtained from Victoria road authority (VicRoads) and comprises all vehicle records for October 2017. The raw dataset consists of approximately 190 million vehicle records obtained from 1,408 Bluetooth scanners placed at the junctions of arterial roads, and using that, we have computed unique vehicle count for each 15-minute sampling interval.\n",
        "\n",
        "Based on Preliminary impact propagation analysis, we have identified junction *Z* (as shown in Fig.1.) face heavy traffic congestion in frequent time periods and is critically impacted by the neighbouring road segments, *X1, X2* and *X3*. Thus, in this experiment we attempt to utilize Recurrent Neural Network Model(s) to predict the traffic flow (vehicle count) at junction *Z*.\n",
        "\n",
        "![Fig.1.](https://i.ibb.co/0q7YqfY/Presentation1.png)\n",
        "Fig. 1: Map of the road network."
      ]
    },
    {
      "cell_type": "markdown",
      "metadata": {
        "id": "lTvsvXrShEE4",
        "colab_type": "text"
      },
      "source": [
        "## Load Libraries\n",
        "\n",
        "Load required libraries for modeling and data processing"
      ]
    },
    {
      "cell_type": "code",
      "metadata": {
        "id": "DyuH_oEpST02",
        "colab_type": "code",
        "colab": {
          "base_uri": "https://localhost:8080/",
          "height": 52
        },
        "outputId": "9ea37319-e5dd-4515-990d-089b9fff5f37"
      },
      "source": [
        "%tensorflow_version 1.x\n",
        "import sys\n",
        "import numpy as np\n",
        "import pandas as pd\n",
        "import matplotlib.pyplot as plt\n",
        "import matplotlib.animation as animation\n",
        "from sklearn.preprocessing import MinMaxScaler\n",
        "from sklearn.model_selection import train_test_split\n",
        "from sklearn.metrics import mean_squared_error\n",
        "from keras.models import Sequential\n",
        "from keras.layers import Dense, LSTM, GRU\n",
        "from keras.callbacks import ModelCheckpoint\n",
        "%matplotlib inline"
      ],
      "execution_count": null,
      "outputs": [
        {
          "output_type": "stream",
          "text": [
            "TensorFlow 1.x selected.\n"
          ],
          "name": "stdout"
        },
        {
          "output_type": "stream",
          "text": [
            "Using TensorFlow backend.\n"
          ],
          "name": "stderr"
        }
      ]
    },
    {
      "cell_type": "markdown",
      "metadata": {
        "id": "gGpIqf46hM7Z",
        "colab_type": "text"
      },
      "source": [
        "## Load data from google drive\n",
        "\n",
        "Libraries to load data from google drive shared location."
      ]
    },
    {
      "cell_type": "code",
      "metadata": {
        "id": "cjtQi3t6_kBh",
        "colab_type": "code",
        "colab": {}
      },
      "source": [
        "!pip install -U -q PyDrive\n",
        "from pydrive.auth import GoogleAuth\n",
        "from pydrive.drive import GoogleDrive\n",
        "from google.colab import auth\n",
        "from oauth2client.client import GoogleCredentials"
      ],
      "execution_count": null,
      "outputs": []
    },
    {
      "cell_type": "markdown",
      "metadata": {
        "id": "PVGQ7TRGA4Sm",
        "colab_type": "text"
      },
      "source": [
        "Authenticate and create the python document (PyDrive) client."
      ]
    },
    {
      "cell_type": "code",
      "metadata": {
        "id": "L6Kbe6Zu_kD8",
        "colab_type": "code",
        "colab": {}
      },
      "source": [
        "auth.authenticate_user()\n",
        "gauth = GoogleAuth()\n",
        "gauth.credentials = GoogleCredentials.get_application_default()\n",
        "drive = GoogleDrive(gauth)"
      ],
      "execution_count": null,
      "outputs": []
    },
    {
      "cell_type": "markdown",
      "metadata": {
        "id": "-ArRh-xt_3FF",
        "colab_type": "text"
      },
      "source": [
        "When prompted, click on the link to get authentication to allow Google to access your Drive. You should see a screen with “Google Cloud SDK wants to access your Google Account” at the top. After you allow permission, copy the given verification code and paste it in the box in Colab."
      ]
    },
    {
      "cell_type": "code",
      "metadata": {
        "id": "i-MgKXCw_kGd",
        "colab_type": "code",
        "colab": {}
      },
      "source": [
        "dataset_file_id = '1W-F_dtThEd20Ytu8tgnr6qsMZoFTo2pA'"
      ],
      "execution_count": null,
      "outputs": []
    },
    {
      "cell_type": "markdown",
      "metadata": {
        "id": "El-El5_EW6V5",
        "colab_type": "text"
      },
      "source": [
        "Download the dataset file."
      ]
    },
    {
      "cell_type": "code",
      "metadata": {
        "id": "ySvIiqpN_peM",
        "colab_type": "code",
        "colab": {}
      },
      "source": [
        "downloaded = drive.CreateFile({'id':dataset_file_id}) \n",
        "downloaded.GetContentFile('bluetooth_traffic_counts.csv')  "
      ],
      "execution_count": null,
      "outputs": []
    },
    {
      "cell_type": "markdown",
      "metadata": {
        "id": "CHxxf06tW76f",
        "colab_type": "text"
      },
      "source": [
        "Load the dataset file to a dataframe using Pandas library."
      ]
    },
    {
      "cell_type": "code",
      "metadata": {
        "id": "iy3xbn2JQES9",
        "colab_type": "code",
        "colab": {}
      },
      "source": [
        "df = pd.read_csv('bluetooth_traffic_counts.csv', index_col=0)"
      ],
      "execution_count": null,
      "outputs": []
    },
    {
      "cell_type": "markdown",
      "metadata": {
        "id": "CxXDZgayXDDa",
        "colab_type": "text"
      },
      "source": [
        "Explore the dataset."
      ]
    },
    {
      "cell_type": "code",
      "metadata": {
        "id": "cZEx4GZG_pgw",
        "colab_type": "code",
        "colab": {
          "base_uri": "https://localhost:8080/",
          "height": 387
        },
        "outputId": "b90c4cbb-27f1-4d4c-eee7-42f50312992e"
      },
      "source": [
        "df.head(10)"
      ],
      "execution_count": null,
      "outputs": [
        {
          "output_type": "execute_result",
          "data": {
            "text/html": [
              "<div>\n",
              "<style scoped>\n",
              "    .dataframe tbody tr th:only-of-type {\n",
              "        vertical-align: middle;\n",
              "    }\n",
              "\n",
              "    .dataframe tbody tr th {\n",
              "        vertical-align: top;\n",
              "    }\n",
              "\n",
              "    .dataframe thead th {\n",
              "        text-align: right;\n",
              "    }\n",
              "</style>\n",
              "<table border=\"1\" class=\"dataframe\">\n",
              "  <thead>\n",
              "    <tr style=\"text-align: right;\">\n",
              "      <th></th>\n",
              "      <th>day_of_week</th>\n",
              "      <th>hour_of_day</th>\n",
              "      <th>min_of_hour</th>\n",
              "      <th>week_day</th>\n",
              "      <th>v_count_x1</th>\n",
              "      <th>v_count_x2</th>\n",
              "      <th>v_count_x3</th>\n",
              "      <th>v_count_z</th>\n",
              "    </tr>\n",
              "    <tr>\n",
              "      <th>time</th>\n",
              "      <th></th>\n",
              "      <th></th>\n",
              "      <th></th>\n",
              "      <th></th>\n",
              "      <th></th>\n",
              "      <th></th>\n",
              "      <th></th>\n",
              "      <th></th>\n",
              "    </tr>\n",
              "  </thead>\n",
              "  <tbody>\n",
              "    <tr>\n",
              "      <th>01-10-17 0:00</th>\n",
              "      <td>1</td>\n",
              "      <td>0</td>\n",
              "      <td>0</td>\n",
              "      <td>0</td>\n",
              "      <td>3</td>\n",
              "      <td>3</td>\n",
              "      <td>1</td>\n",
              "      <td>2</td>\n",
              "    </tr>\n",
              "    <tr>\n",
              "      <th>01-10-17 0:15</th>\n",
              "      <td>1</td>\n",
              "      <td>0</td>\n",
              "      <td>15</td>\n",
              "      <td>0</td>\n",
              "      <td>1</td>\n",
              "      <td>0</td>\n",
              "      <td>2</td>\n",
              "      <td>2</td>\n",
              "    </tr>\n",
              "    <tr>\n",
              "      <th>01-10-17 0:30</th>\n",
              "      <td>1</td>\n",
              "      <td>0</td>\n",
              "      <td>30</td>\n",
              "      <td>0</td>\n",
              "      <td>4</td>\n",
              "      <td>6</td>\n",
              "      <td>2</td>\n",
              "      <td>2</td>\n",
              "    </tr>\n",
              "    <tr>\n",
              "      <th>01-10-17 0:45</th>\n",
              "      <td>1</td>\n",
              "      <td>0</td>\n",
              "      <td>45</td>\n",
              "      <td>0</td>\n",
              "      <td>1</td>\n",
              "      <td>1</td>\n",
              "      <td>1</td>\n",
              "      <td>1</td>\n",
              "    </tr>\n",
              "    <tr>\n",
              "      <th>01-10-17 1:00</th>\n",
              "      <td>1</td>\n",
              "      <td>1</td>\n",
              "      <td>0</td>\n",
              "      <td>0</td>\n",
              "      <td>1</td>\n",
              "      <td>1</td>\n",
              "      <td>1</td>\n",
              "      <td>0</td>\n",
              "    </tr>\n",
              "    <tr>\n",
              "      <th>01-10-17 1:15</th>\n",
              "      <td>1</td>\n",
              "      <td>1</td>\n",
              "      <td>15</td>\n",
              "      <td>0</td>\n",
              "      <td>4</td>\n",
              "      <td>2</td>\n",
              "      <td>2</td>\n",
              "      <td>0</td>\n",
              "    </tr>\n",
              "    <tr>\n",
              "      <th>01-10-17 1:30</th>\n",
              "      <td>1</td>\n",
              "      <td>1</td>\n",
              "      <td>30</td>\n",
              "      <td>0</td>\n",
              "      <td>4</td>\n",
              "      <td>4</td>\n",
              "      <td>4</td>\n",
              "      <td>2</td>\n",
              "    </tr>\n",
              "    <tr>\n",
              "      <th>01-10-17 1:45</th>\n",
              "      <td>1</td>\n",
              "      <td>1</td>\n",
              "      <td>45</td>\n",
              "      <td>0</td>\n",
              "      <td>0</td>\n",
              "      <td>0</td>\n",
              "      <td>1</td>\n",
              "      <td>1</td>\n",
              "    </tr>\n",
              "    <tr>\n",
              "      <th>01-10-17 2:00</th>\n",
              "      <td>1</td>\n",
              "      <td>2</td>\n",
              "      <td>0</td>\n",
              "      <td>0</td>\n",
              "      <td>0</td>\n",
              "      <td>0</td>\n",
              "      <td>0</td>\n",
              "      <td>0</td>\n",
              "    </tr>\n",
              "    <tr>\n",
              "      <th>01-10-17 2:15</th>\n",
              "      <td>1</td>\n",
              "      <td>2</td>\n",
              "      <td>15</td>\n",
              "      <td>0</td>\n",
              "      <td>0</td>\n",
              "      <td>0</td>\n",
              "      <td>0</td>\n",
              "      <td>0</td>\n",
              "    </tr>\n",
              "  </tbody>\n",
              "</table>\n",
              "</div>"
            ],
            "text/plain": [
              "               day_of_week  hour_of_day  ...  v_count_x3  v_count_z\n",
              "time                                     ...                       \n",
              "01-10-17 0:00            1            0  ...           1          2\n",
              "01-10-17 0:15            1            0  ...           2          2\n",
              "01-10-17 0:30            1            0  ...           2          2\n",
              "01-10-17 0:45            1            0  ...           1          1\n",
              "01-10-17 1:00            1            1  ...           1          0\n",
              "01-10-17 1:15            1            1  ...           2          0\n",
              "01-10-17 1:30            1            1  ...           4          2\n",
              "01-10-17 1:45            1            1  ...           1          1\n",
              "01-10-17 2:00            1            2  ...           0          0\n",
              "01-10-17 2:15            1            2  ...           0          0\n",
              "\n",
              "[10 rows x 8 columns]"
            ]
          },
          "metadata": {
            "tags": []
          },
          "execution_count": 7
        }
      ]
    },
    {
      "cell_type": "markdown",
      "metadata": {
        "id": "J3G6tfATXFCX",
        "colab_type": "text"
      },
      "source": [
        "Dataset contains 8 columns:  \n",
        "\n",
        "\n",
        "1.   Day of the week\n",
        "2.   Hour of the day\n",
        "3.   Minute of the hour\n",
        "4.   Whether the current day is a weekday (1) or weekend (0)\n",
        "5.   Vehicle count per 15-min interval for X1 road segment\n",
        "6.   Vehicle count per 15-min interval for X2 road segment\n",
        "7.   Vehicle count per 15-min interval for X3 road segment\n",
        "8.   Vehicle count per 15-min interval for Z road segment (Our predictor)\n",
        "\n"
      ]
    },
    {
      "cell_type": "markdown",
      "metadata": {
        "id": "8CddET7ihu2V",
        "colab_type": "text"
      },
      "source": [
        "## Preprocessing\n",
        "\n",
        "We will conduct 2 pre-processing steps for this dataset,  \n",
        "1. Normalize the dataset  \n",
        "2. Format the dataset to adapt recurrent learning."
      ]
    },
    {
      "cell_type": "markdown",
      "metadata": {
        "id": "ZLAfWQdih7Ud",
        "colab_type": "text"
      },
      "source": [
        "### Standardization"
      ]
    },
    {
      "cell_type": "markdown",
      "metadata": {
        "id": "qT-qZudgaYpm",
        "colab_type": "text"
      },
      "source": [
        "Copy the index (i.e., actual time frame) for evaluation and visualization purposes."
      ]
    },
    {
      "cell_type": "code",
      "metadata": {
        "id": "zjzVMMIRaUo5",
        "colab_type": "code",
        "colab": {}
      },
      "source": [
        "date_times = df.index.values"
      ],
      "execution_count": null,
      "outputs": []
    },
    {
      "cell_type": "markdown",
      "metadata": {
        "id": "rvdvpowEahZW",
        "colab_type": "text"
      },
      "source": [
        "Load features from the dataframe, and normalize between 0-1.  \n",
        "This scaler *object* is the min max scaler, which can be used to inverse the scale after prediction."
      ]
    },
    {
      "cell_type": "code",
      "metadata": {
        "id": "K2SJt65uTrOr",
        "colab_type": "code",
        "colab": {}
      },
      "source": [
        "scaler = MinMaxScaler(feature_range=(0, 1))"
      ],
      "execution_count": null,
      "outputs": []
    },
    {
      "cell_type": "markdown",
      "metadata": {
        "id": "H062Wyq9LRLc",
        "colab_type": "text"
      },
      "source": [
        "Scale the dataset using the min-max scaler object."
      ]
    },
    {
      "cell_type": "code",
      "metadata": {
        "id": "pUPDHcKbUhYj",
        "colab_type": "code",
        "colab": {}
      },
      "source": [
        "values = df.values.astype('float32')\n",
        "scaled_values = scaler.fit_transform(values)"
      ],
      "execution_count": null,
      "outputs": []
    },
    {
      "cell_type": "markdown",
      "metadata": {
        "id": "LePVf772iBRl",
        "colab_type": "text"
      },
      "source": [
        "### Format to adapt recurrent learning"
      ]
    },
    {
      "cell_type": "markdown",
      "metadata": {
        "id": "75xoRb-iauJl",
        "colab_type": "text"
      },
      "source": [
        "Define how many duration is required/used to predict the traffic on junction Z.  \n",
        "* For this experiment, we take 1 hour previous traffic count (i.e., four 15-min intervals) - used as *n_15min_interval*  \n",
        "* Define the number of feature columns in order to construct data records combining sequence of *n_15min_interval* s "
      ]
    },
    {
      "cell_type": "code",
      "metadata": {
        "id": "tGMreYfBWPsj",
        "colab_type": "code",
        "colab": {}
      },
      "source": [
        "n_15min_interval = 4\n",
        "n_features = df.shape[1]"
      ],
      "execution_count": null,
      "outputs": []
    },
    {
      "cell_type": "markdown",
      "metadata": {
        "id": "2P3eKTQqbmCc",
        "colab_type": "text"
      },
      "source": [
        "The following function will enable to construct input records capturing more than 1 hour of input time steps.  \n",
        "This is one of the most important pre-processing steps to use Backpropagation through time by recurrent neural networks when learning sequence predictions problems."
      ]
    },
    {
      "cell_type": "code",
      "metadata": {
        "id": "_DcSLhQdWZbB",
        "colab_type": "code",
        "colab": {}
      },
      "source": [
        "def series_to_supervised(data, n_in=1, n_out=1, dropnan=True):\n",
        "    n_vars = 1 if type(data) is list else data.shape[1]\n",
        "    df = pd.DataFrame(data)\n",
        "    cols, names = list(), list()\n",
        "    # input sequence (t-n, ... t-1)\n",
        "    for i in range(n_in, 0, -1):\n",
        "        cols.append(df.shift(i))\n",
        "        names += [('var%d(t-%d)' % (j + 1, i)) for j in range(n_vars)]\n",
        "    # forecast sequence (t, t+1, ... t+n)\n",
        "    for i in range(0, n_out):\n",
        "        cols.append(df.shift(-i))\n",
        "        if i == 0:\n",
        "            names += [('var%d(t)' % (j + 1)) for j in range(n_vars)]\n",
        "        else:\n",
        "            names += [('var%d(t+%d)' % (j + 1, i)) for j in range(n_vars)]\n",
        "    # put it all together\n",
        "    agg = pd.concat(cols, axis=1)\n",
        "    agg.columns = names\n",
        "    # drop rows with NaN values\n",
        "    if dropnan:\n",
        "        agg.dropna(inplace=True)\n",
        "    return agg"
      ],
      "execution_count": null,
      "outputs": []
    },
    {
      "cell_type": "code",
      "metadata": {
        "id": "_-j0bQnoWieB",
        "colab_type": "code",
        "colab": {}
      },
      "source": [
        "df_reframed = series_to_supervised(scaled_values, n_15min_interval, 1)"
      ],
      "execution_count": null,
      "outputs": []
    },
    {
      "cell_type": "code",
      "metadata": {
        "id": "ik5qUUSgWlr5",
        "colab_type": "code",
        "colab": {
          "base_uri": "https://localhost:8080/",
          "height": 240
        },
        "outputId": "9dd21e1d-5395-4986-e719-43c10795cef6"
      },
      "source": [
        "df_reframed.head()"
      ],
      "execution_count": null,
      "outputs": [
        {
          "output_type": "execute_result",
          "data": {
            "text/html": [
              "<div>\n",
              "<style scoped>\n",
              "    .dataframe tbody tr th:only-of-type {\n",
              "        vertical-align: middle;\n",
              "    }\n",
              "\n",
              "    .dataframe tbody tr th {\n",
              "        vertical-align: top;\n",
              "    }\n",
              "\n",
              "    .dataframe thead th {\n",
              "        text-align: right;\n",
              "    }\n",
              "</style>\n",
              "<table border=\"1\" class=\"dataframe\">\n",
              "  <thead>\n",
              "    <tr style=\"text-align: right;\">\n",
              "      <th></th>\n",
              "      <th>var1(t-4)</th>\n",
              "      <th>var2(t-4)</th>\n",
              "      <th>var3(t-4)</th>\n",
              "      <th>var4(t-4)</th>\n",
              "      <th>var5(t-4)</th>\n",
              "      <th>var6(t-4)</th>\n",
              "      <th>var7(t-4)</th>\n",
              "      <th>var8(t-4)</th>\n",
              "      <th>var1(t-3)</th>\n",
              "      <th>var2(t-3)</th>\n",
              "      <th>var3(t-3)</th>\n",
              "      <th>var4(t-3)</th>\n",
              "      <th>var5(t-3)</th>\n",
              "      <th>var6(t-3)</th>\n",
              "      <th>var7(t-3)</th>\n",
              "      <th>var8(t-3)</th>\n",
              "      <th>var1(t-2)</th>\n",
              "      <th>var2(t-2)</th>\n",
              "      <th>var3(t-2)</th>\n",
              "      <th>var4(t-2)</th>\n",
              "      <th>var5(t-2)</th>\n",
              "      <th>var6(t-2)</th>\n",
              "      <th>var7(t-2)</th>\n",
              "      <th>var8(t-2)</th>\n",
              "      <th>var1(t-1)</th>\n",
              "      <th>var2(t-1)</th>\n",
              "      <th>var3(t-1)</th>\n",
              "      <th>var4(t-1)</th>\n",
              "      <th>var5(t-1)</th>\n",
              "      <th>var6(t-1)</th>\n",
              "      <th>var7(t-1)</th>\n",
              "      <th>var8(t-1)</th>\n",
              "      <th>var1(t)</th>\n",
              "      <th>var2(t)</th>\n",
              "      <th>var3(t)</th>\n",
              "      <th>var4(t)</th>\n",
              "      <th>var5(t)</th>\n",
              "      <th>var6(t)</th>\n",
              "      <th>var7(t)</th>\n",
              "      <th>var8(t)</th>\n",
              "    </tr>\n",
              "  </thead>\n",
              "  <tbody>\n",
              "    <tr>\n",
              "      <th>4</th>\n",
              "      <td>0.0</td>\n",
              "      <td>0.000000</td>\n",
              "      <td>0.000000</td>\n",
              "      <td>0.0</td>\n",
              "      <td>0.076923</td>\n",
              "      <td>0.075</td>\n",
              "      <td>0.026316</td>\n",
              "      <td>0.090909</td>\n",
              "      <td>0.0</td>\n",
              "      <td>0.000000</td>\n",
              "      <td>0.333333</td>\n",
              "      <td>0.0</td>\n",
              "      <td>0.025641</td>\n",
              "      <td>0.000</td>\n",
              "      <td>0.052632</td>\n",
              "      <td>0.090909</td>\n",
              "      <td>0.0</td>\n",
              "      <td>0.000000</td>\n",
              "      <td>0.666667</td>\n",
              "      <td>0.0</td>\n",
              "      <td>0.102564</td>\n",
              "      <td>0.150</td>\n",
              "      <td>0.052632</td>\n",
              "      <td>0.090909</td>\n",
              "      <td>0.0</td>\n",
              "      <td>0.000000</td>\n",
              "      <td>1.000000</td>\n",
              "      <td>0.0</td>\n",
              "      <td>0.025641</td>\n",
              "      <td>0.025</td>\n",
              "      <td>0.026316</td>\n",
              "      <td>0.045455</td>\n",
              "      <td>0.0</td>\n",
              "      <td>0.043478</td>\n",
              "      <td>0.000000</td>\n",
              "      <td>0.0</td>\n",
              "      <td>0.025641</td>\n",
              "      <td>0.025</td>\n",
              "      <td>0.026316</td>\n",
              "      <td>0.000000</td>\n",
              "    </tr>\n",
              "    <tr>\n",
              "      <th>5</th>\n",
              "      <td>0.0</td>\n",
              "      <td>0.000000</td>\n",
              "      <td>0.333333</td>\n",
              "      <td>0.0</td>\n",
              "      <td>0.025641</td>\n",
              "      <td>0.000</td>\n",
              "      <td>0.052632</td>\n",
              "      <td>0.090909</td>\n",
              "      <td>0.0</td>\n",
              "      <td>0.000000</td>\n",
              "      <td>0.666667</td>\n",
              "      <td>0.0</td>\n",
              "      <td>0.102564</td>\n",
              "      <td>0.150</td>\n",
              "      <td>0.052632</td>\n",
              "      <td>0.090909</td>\n",
              "      <td>0.0</td>\n",
              "      <td>0.000000</td>\n",
              "      <td>1.000000</td>\n",
              "      <td>0.0</td>\n",
              "      <td>0.025641</td>\n",
              "      <td>0.025</td>\n",
              "      <td>0.026316</td>\n",
              "      <td>0.045455</td>\n",
              "      <td>0.0</td>\n",
              "      <td>0.043478</td>\n",
              "      <td>0.000000</td>\n",
              "      <td>0.0</td>\n",
              "      <td>0.025641</td>\n",
              "      <td>0.025</td>\n",
              "      <td>0.026316</td>\n",
              "      <td>0.000000</td>\n",
              "      <td>0.0</td>\n",
              "      <td>0.043478</td>\n",
              "      <td>0.333333</td>\n",
              "      <td>0.0</td>\n",
              "      <td>0.102564</td>\n",
              "      <td>0.050</td>\n",
              "      <td>0.052632</td>\n",
              "      <td>0.000000</td>\n",
              "    </tr>\n",
              "    <tr>\n",
              "      <th>6</th>\n",
              "      <td>0.0</td>\n",
              "      <td>0.000000</td>\n",
              "      <td>0.666667</td>\n",
              "      <td>0.0</td>\n",
              "      <td>0.102564</td>\n",
              "      <td>0.150</td>\n",
              "      <td>0.052632</td>\n",
              "      <td>0.090909</td>\n",
              "      <td>0.0</td>\n",
              "      <td>0.000000</td>\n",
              "      <td>1.000000</td>\n",
              "      <td>0.0</td>\n",
              "      <td>0.025641</td>\n",
              "      <td>0.025</td>\n",
              "      <td>0.026316</td>\n",
              "      <td>0.045455</td>\n",
              "      <td>0.0</td>\n",
              "      <td>0.043478</td>\n",
              "      <td>0.000000</td>\n",
              "      <td>0.0</td>\n",
              "      <td>0.025641</td>\n",
              "      <td>0.025</td>\n",
              "      <td>0.026316</td>\n",
              "      <td>0.000000</td>\n",
              "      <td>0.0</td>\n",
              "      <td>0.043478</td>\n",
              "      <td>0.333333</td>\n",
              "      <td>0.0</td>\n",
              "      <td>0.102564</td>\n",
              "      <td>0.050</td>\n",
              "      <td>0.052632</td>\n",
              "      <td>0.000000</td>\n",
              "      <td>0.0</td>\n",
              "      <td>0.043478</td>\n",
              "      <td>0.666667</td>\n",
              "      <td>0.0</td>\n",
              "      <td>0.102564</td>\n",
              "      <td>0.100</td>\n",
              "      <td>0.105263</td>\n",
              "      <td>0.090909</td>\n",
              "    </tr>\n",
              "    <tr>\n",
              "      <th>7</th>\n",
              "      <td>0.0</td>\n",
              "      <td>0.000000</td>\n",
              "      <td>1.000000</td>\n",
              "      <td>0.0</td>\n",
              "      <td>0.025641</td>\n",
              "      <td>0.025</td>\n",
              "      <td>0.026316</td>\n",
              "      <td>0.045455</td>\n",
              "      <td>0.0</td>\n",
              "      <td>0.043478</td>\n",
              "      <td>0.000000</td>\n",
              "      <td>0.0</td>\n",
              "      <td>0.025641</td>\n",
              "      <td>0.025</td>\n",
              "      <td>0.026316</td>\n",
              "      <td>0.000000</td>\n",
              "      <td>0.0</td>\n",
              "      <td>0.043478</td>\n",
              "      <td>0.333333</td>\n",
              "      <td>0.0</td>\n",
              "      <td>0.102564</td>\n",
              "      <td>0.050</td>\n",
              "      <td>0.052632</td>\n",
              "      <td>0.000000</td>\n",
              "      <td>0.0</td>\n",
              "      <td>0.043478</td>\n",
              "      <td>0.666667</td>\n",
              "      <td>0.0</td>\n",
              "      <td>0.102564</td>\n",
              "      <td>0.100</td>\n",
              "      <td>0.105263</td>\n",
              "      <td>0.090909</td>\n",
              "      <td>0.0</td>\n",
              "      <td>0.043478</td>\n",
              "      <td>1.000000</td>\n",
              "      <td>0.0</td>\n",
              "      <td>0.000000</td>\n",
              "      <td>0.000</td>\n",
              "      <td>0.026316</td>\n",
              "      <td>0.045455</td>\n",
              "    </tr>\n",
              "    <tr>\n",
              "      <th>8</th>\n",
              "      <td>0.0</td>\n",
              "      <td>0.043478</td>\n",
              "      <td>0.000000</td>\n",
              "      <td>0.0</td>\n",
              "      <td>0.025641</td>\n",
              "      <td>0.025</td>\n",
              "      <td>0.026316</td>\n",
              "      <td>0.000000</td>\n",
              "      <td>0.0</td>\n",
              "      <td>0.043478</td>\n",
              "      <td>0.333333</td>\n",
              "      <td>0.0</td>\n",
              "      <td>0.102564</td>\n",
              "      <td>0.050</td>\n",
              "      <td>0.052632</td>\n",
              "      <td>0.000000</td>\n",
              "      <td>0.0</td>\n",
              "      <td>0.043478</td>\n",
              "      <td>0.666667</td>\n",
              "      <td>0.0</td>\n",
              "      <td>0.102564</td>\n",
              "      <td>0.100</td>\n",
              "      <td>0.105263</td>\n",
              "      <td>0.090909</td>\n",
              "      <td>0.0</td>\n",
              "      <td>0.043478</td>\n",
              "      <td>1.000000</td>\n",
              "      <td>0.0</td>\n",
              "      <td>0.000000</td>\n",
              "      <td>0.000</td>\n",
              "      <td>0.026316</td>\n",
              "      <td>0.045455</td>\n",
              "      <td>0.0</td>\n",
              "      <td>0.086957</td>\n",
              "      <td>0.000000</td>\n",
              "      <td>0.0</td>\n",
              "      <td>0.000000</td>\n",
              "      <td>0.000</td>\n",
              "      <td>0.000000</td>\n",
              "      <td>0.000000</td>\n",
              "    </tr>\n",
              "  </tbody>\n",
              "</table>\n",
              "</div>"
            ],
            "text/plain": [
              "   var1(t-4)  var2(t-4)  var3(t-4)  ...  var6(t)   var7(t)   var8(t)\n",
              "4        0.0   0.000000   0.000000  ...    0.025  0.026316  0.000000\n",
              "5        0.0   0.000000   0.333333  ...    0.050  0.052632  0.000000\n",
              "6        0.0   0.000000   0.666667  ...    0.100  0.105263  0.090909\n",
              "7        0.0   0.000000   1.000000  ...    0.000  0.026316  0.045455\n",
              "8        0.0   0.043478   0.000000  ...    0.000  0.000000  0.000000\n",
              "\n",
              "[5 rows x 40 columns]"
            ]
          },
          "metadata": {
            "tags": []
          },
          "execution_count": 14
        }
      ]
    },
    {
      "cell_type": "markdown",
      "metadata": {
        "id": "9z5nuSGocA0G",
        "colab_type": "text"
      },
      "source": [
        "Drop the records of the current time frame, except the predictor."
      ]
    },
    {
      "cell_type": "code",
      "metadata": {
        "id": "eSZdrXmiWr_y",
        "colab_type": "code",
        "colab": {}
      },
      "source": [
        "df_reframed.drop(df_reframed.columns[[32, 33, 34, 35, 36, 37, 38]], axis=1, inplace=True)"
      ],
      "execution_count": null,
      "outputs": []
    },
    {
      "cell_type": "markdown",
      "metadata": {
        "id": "hcpNhxmfiMgW",
        "colab_type": "text"
      },
      "source": [
        "### Train-Test split\n",
        "\n",
        "Split the dataset into train set and test set.  \n",
        "First *n_obs* parametarized number of feature columns in the dataset. "
      ]
    },
    {
      "cell_type": "code",
      "metadata": {
        "id": "CX5D4dbDMknY",
        "colab_type": "code",
        "colab": {
          "base_uri": "https://localhost:8080/",
          "height": 35
        },
        "outputId": "b6e2b282-09f3-4028-9609-76e03b87d1d3"
      },
      "source": [
        "n_obs = n_15min_interval * n_features\n",
        "n_obs"
      ],
      "execution_count": null,
      "outputs": [
        {
          "output_type": "execute_result",
          "data": {
            "text/plain": [
              "32"
            ]
          },
          "metadata": {
            "tags": []
          },
          "execution_count": 16
        }
      ]
    },
    {
      "cell_type": "markdown",
      "metadata": {
        "id": "MvULONDdfxSr",
        "colab_type": "text"
      },
      "source": [
        "For this experiment we use 70/30 train/test split."
      ]
    },
    {
      "cell_type": "code",
      "metadata": {
        "id": "xvhhVeeFfoLN",
        "colab_type": "code",
        "colab": {
          "base_uri": "https://localhost:8080/",
          "height": 35
        },
        "outputId": "bf562651-094c-4d18-fb43-2023dc3f7913"
      },
      "source": [
        "n_train_records = int(len(df_reframed.values) * .7) \n",
        "n_train_records"
      ],
      "execution_count": null,
      "outputs": [
        {
          "output_type": "execute_result",
          "data": {
            "text/plain": [
              "2081"
            ]
          },
          "metadata": {
            "tags": []
          },
          "execution_count": 17
        }
      ]
    },
    {
      "cell_type": "markdown",
      "metadata": {
        "id": "jl9nb6yUS3bQ",
        "colab_type": "text"
      },
      "source": [
        "Split the dataset for training and testing.\n",
        "\n"
      ]
    },
    {
      "cell_type": "code",
      "metadata": {
        "id": "KN8rJI3SfcYW",
        "colab_type": "code",
        "colab": {
          "base_uri": "https://localhost:8080/",
          "height": 52
        },
        "outputId": "2fa431fd-378c-46d2-a84a-04496978b3f5"
      },
      "source": [
        "train = df_reframed.values[:n_train_records, :]\n",
        "test = df_reframed.values[n_train_records:, :]\n",
        "test_date_times = date_times[n_train_records:]\n",
        "print('Train shape:', train.shape)\n",
        "print('Test shape:', test.shape)"
      ],
      "execution_count": null,
      "outputs": [
        {
          "output_type": "stream",
          "text": [
            "Train shape: (2081, 33)\n",
            "Test shape: (892, 33)\n"
          ],
          "name": "stdout"
        }
      ]
    },
    {
      "cell_type": "markdown",
      "metadata": {
        "id": "ijgZHhOQTCfI",
        "colab_type": "text"
      },
      "source": [
        "Construct X set as the features and Y set as the predictor/ or the output variable."
      ]
    },
    {
      "cell_type": "code",
      "metadata": {
        "id": "EsYQtfr0hGi5",
        "colab_type": "code",
        "colab": {
          "base_uri": "https://localhost:8080/",
          "height": 105
        },
        "outputId": "32e25bf8-538e-472c-f72c-1233205ca97a"
      },
      "source": [
        "X_train, y_train = train[:, :n_obs], train[:, -1]  \n",
        "X_test, y_test = test[:, :n_obs], test[:, -1]\n",
        "print('X_train shape:', X_train.shape)\n",
        "print('y_train shape:', y_train.shape)\n",
        "print('\\nX_test shape:', X_test.shape)\n",
        "print('y_test shape:', y_test.shape)"
      ],
      "execution_count": null,
      "outputs": [
        {
          "output_type": "stream",
          "text": [
            "X_train shape: (2081, 32)\n",
            "y_train shape: (2081,)\n",
            "\n",
            "X_test shape: (892, 32)\n",
            "y_test shape: (892,)\n"
          ],
          "name": "stdout"
        }
      ]
    },
    {
      "cell_type": "markdown",
      "metadata": {
        "id": "xO2zRgPbTWsJ",
        "colab_type": "text"
      },
      "source": [
        "The inputs (X) are reshaped into the 3D format expected by RNN, namely (samples, timesteps, features)."
      ]
    },
    {
      "cell_type": "code",
      "metadata": {
        "id": "ILo91M7TNHTK",
        "colab_type": "code",
        "colab": {
          "base_uri": "https://localhost:8080/",
          "height": 52
        },
        "outputId": "85bdd13c-e8aa-4622-e165-fed7c253286d"
      },
      "source": [
        "X_train = X_train.reshape((X_train.shape[0], n_15min_interval, n_features))\n",
        "X_test = X_test.reshape((X_test.shape[0], n_15min_interval, n_features))\n",
        "print('X_train shape:', X_train.shape)\n",
        "print('X_test shape:', X_test.shape)"
      ],
      "execution_count": null,
      "outputs": [
        {
          "output_type": "stream",
          "text": [
            "X_train shape: (2081, 4, 8)\n",
            "X_test shape: (892, 4, 8)\n"
          ],
          "name": "stdout"
        }
      ]
    },
    {
      "cell_type": "markdown",
      "metadata": {
        "id": "FnBRAdt4iRNV",
        "colab_type": "text"
      },
      "source": [
        "## Modelling\n",
        "\n",
        "We design a RNN based on hierarchically stacked three layered LSTM network architecture that consists of 256, 128 and 64 LSTM Networks respectively, accommodating deeper abstraction of temporal hierarchy to be trained by the prediction model. The proposed RNN architecture captures the correlation patterns of the targeted road segment, and the surrounding road segments that impact the traffic flow of the targeted road segment, which was identified through the impact propagation analysis."
      ]
    },
    {
      "cell_type": "markdown",
      "metadata": {
        "id": "HZO0VjqTV_rT",
        "colab_type": "text"
      },
      "source": [
        "Model design:"
      ]
    },
    {
      "cell_type": "code",
      "metadata": {
        "id": "YWsaWoW8eldP",
        "colab_type": "code",
        "colab": {
          "base_uri": "https://localhost:8080/",
          "height": 90
        },
        "outputId": "f065b091-90f6-40c6-f803-9d233364951f"
      },
      "source": [
        "model = Sequential()\n",
        "model.add(LSTM(32, return_sequences=True, input_shape=(X_train.shape[1], X_train.shape[2])))\n",
        "model.add(LSTM(24, return_sequences=True))\n",
        "model.add(LSTM(12))\n",
        "model.add(Dense(1))"
      ],
      "execution_count": null,
      "outputs": [
        {
          "output_type": "stream",
          "text": [
            "WARNING:tensorflow:From /tensorflow-1.15.2/python3.6/tensorflow_core/python/ops/resource_variable_ops.py:1630: calling BaseResourceVariable.__init__ (from tensorflow.python.ops.resource_variable_ops) with constraint is deprecated and will be removed in a future version.\n",
            "Instructions for updating:\n",
            "If using Keras pass *_constraint arguments to layers.\n"
          ],
          "name": "stdout"
        }
      ]
    },
    {
      "cell_type": "markdown",
      "metadata": {
        "id": "EZWv6RvBWh9v",
        "colab_type": "text"
      },
      "source": [
        "Compile the model with [Mean Squarred Error](https://keras.io/losses/) loss functions and [ADAM optimizer](https://keras.io/optimizers/)."
      ]
    },
    {
      "cell_type": "code",
      "metadata": {
        "id": "LNwwQOCSeyxa",
        "colab_type": "code",
        "colab": {}
      },
      "source": [
        "model.compile(loss='mse', optimizer='adam')"
      ],
      "execution_count": null,
      "outputs": []
    },
    {
      "cell_type": "markdown",
      "metadata": {
        "id": "HikHUXlcW1Mj",
        "colab_type": "text"
      },
      "source": [
        "Train the model with parameters;  \n",
        "*   Train epochs: 50\n",
        "*   Batch size: 32\n",
        "*   Use 0.3 from the training dataset as model validation data.\n",
        "\n"
      ]
    },
    {
      "cell_type": "code",
      "metadata": {
        "id": "3ZExRa8Oe0l-",
        "colab_type": "code",
        "colab": {
          "base_uri": "https://localhost:8080/",
          "height": 1000
        },
        "outputId": "52f19a72-783d-4666-e43c-e5df433bc81a"
      },
      "source": [
        "train_epochs = 50\n",
        "batch_size = 32\n",
        "validation_split = 0.3\n",
        "history = model.fit(X_train, y_train, epochs=train_epochs, batch_size=batch_size, validation_split=validation_split, verbose=1, shuffle=False)"
      ],
      "execution_count": null,
      "outputs": [
        {
          "output_type": "stream",
          "text": [
            "WARNING:tensorflow:From /usr/local/lib/python3.6/dist-packages/keras/backend/tensorflow_backend.py:422: The name tf.global_variables is deprecated. Please use tf.compat.v1.global_variables instead.\n",
            "\n",
            "Train on 1456 samples, validate on 625 samples\n",
            "Epoch 1/50\n",
            "1456/1456 [==============================] - 1s 902us/step - loss: 0.0328 - val_loss: 0.0224\n",
            "Epoch 2/50\n",
            "1456/1456 [==============================] - 0s 208us/step - loss: 0.0162 - val_loss: 0.0157\n",
            "Epoch 3/50\n",
            "1456/1456 [==============================] - 0s 223us/step - loss: 0.0130 - val_loss: 0.0154\n",
            "Epoch 4/50\n",
            "1456/1456 [==============================] - 0s 221us/step - loss: 0.0130 - val_loss: 0.0164\n",
            "Epoch 5/50\n",
            "1456/1456 [==============================] - 0s 228us/step - loss: 0.0127 - val_loss: 0.0154\n",
            "Epoch 6/50\n",
            "1456/1456 [==============================] - 0s 215us/step - loss: 0.0123 - val_loss: 0.0149\n",
            "Epoch 7/50\n",
            "1456/1456 [==============================] - 0s 234us/step - loss: 0.0124 - val_loss: 0.0152\n",
            "Epoch 8/50\n",
            "1456/1456 [==============================] - 0s 225us/step - loss: 0.0123 - val_loss: 0.0154\n",
            "Epoch 9/50\n",
            "1456/1456 [==============================] - 0s 220us/step - loss: 0.0121 - val_loss: 0.0148\n",
            "Epoch 10/50\n",
            "1456/1456 [==============================] - 0s 220us/step - loss: 0.0120 - val_loss: 0.0147\n",
            "Epoch 11/50\n",
            "1456/1456 [==============================] - 0s 223us/step - loss: 0.0121 - val_loss: 0.0151\n",
            "Epoch 12/50\n",
            "1456/1456 [==============================] - 0s 216us/step - loss: 0.0119 - val_loss: 0.0148\n",
            "Epoch 13/50\n",
            "1456/1456 [==============================] - 0s 219us/step - loss: 0.0117 - val_loss: 0.0146\n",
            "Epoch 14/50\n",
            "1456/1456 [==============================] - 0s 222us/step - loss: 0.0117 - val_loss: 0.0145\n",
            "Epoch 15/50\n",
            "1456/1456 [==============================] - 0s 226us/step - loss: 0.0117 - val_loss: 0.0148\n",
            "Epoch 16/50\n",
            "1456/1456 [==============================] - 0s 219us/step - loss: 0.0115 - val_loss: 0.0145\n",
            "Epoch 17/50\n",
            "1456/1456 [==============================] - 0s 222us/step - loss: 0.0114 - val_loss: 0.0145\n",
            "Epoch 18/50\n",
            "1456/1456 [==============================] - 0s 221us/step - loss: 0.0114 - val_loss: 0.0143\n",
            "Epoch 19/50\n",
            "1456/1456 [==============================] - 0s 217us/step - loss: 0.0114 - val_loss: 0.0144\n",
            "Epoch 20/50\n",
            "1456/1456 [==============================] - 0s 215us/step - loss: 0.0112 - val_loss: 0.0143\n",
            "Epoch 21/50\n",
            "1456/1456 [==============================] - 0s 223us/step - loss: 0.0110 - val_loss: 0.0144\n",
            "Epoch 22/50\n",
            "1456/1456 [==============================] - 0s 217us/step - loss: 0.0110 - val_loss: 0.0146\n",
            "Epoch 23/50\n",
            "1456/1456 [==============================] - 0s 215us/step - loss: 0.0111 - val_loss: 0.0141\n",
            "Epoch 24/50\n",
            "1456/1456 [==============================] - 0s 232us/step - loss: 0.0110 - val_loss: 0.0141\n",
            "Epoch 25/50\n",
            "1456/1456 [==============================] - 0s 213us/step - loss: 0.0108 - val_loss: 0.0140\n",
            "Epoch 26/50\n",
            "1456/1456 [==============================] - 0s 242us/step - loss: 0.0106 - val_loss: 0.0142\n",
            "Epoch 27/50\n",
            "1456/1456 [==============================] - 0s 224us/step - loss: 0.0106 - val_loss: 0.0143\n",
            "Epoch 28/50\n",
            "1456/1456 [==============================] - 0s 244us/step - loss: 0.0106 - val_loss: 0.0142\n",
            "Epoch 29/50\n",
            "1456/1456 [==============================] - 0s 277us/step - loss: 0.0106 - val_loss: 0.0141\n",
            "Epoch 30/50\n",
            "1456/1456 [==============================] - 0s 251us/step - loss: 0.0105 - val_loss: 0.0141\n",
            "Epoch 31/50\n",
            "1456/1456 [==============================] - 0s 225us/step - loss: 0.0105 - val_loss: 0.0141\n",
            "Epoch 32/50\n",
            "1456/1456 [==============================] - 0s 211us/step - loss: 0.0105 - val_loss: 0.0142\n",
            "Epoch 33/50\n",
            "1456/1456 [==============================] - 0s 225us/step - loss: 0.0104 - val_loss: 0.0142\n",
            "Epoch 34/50\n",
            "1456/1456 [==============================] - 0s 230us/step - loss: 0.0104 - val_loss: 0.0142\n",
            "Epoch 35/50\n",
            "1456/1456 [==============================] - 0s 219us/step - loss: 0.0104 - val_loss: 0.0142\n",
            "Epoch 36/50\n",
            "1456/1456 [==============================] - 0s 225us/step - loss: 0.0104 - val_loss: 0.0142\n",
            "Epoch 37/50\n",
            "1456/1456 [==============================] - 0s 224us/step - loss: 0.0104 - val_loss: 0.0142\n",
            "Epoch 38/50\n",
            "1456/1456 [==============================] - 0s 212us/step - loss: 0.0103 - val_loss: 0.0142\n",
            "Epoch 39/50\n",
            "1456/1456 [==============================] - 0s 228us/step - loss: 0.0103 - val_loss: 0.0142\n",
            "Epoch 40/50\n",
            "1456/1456 [==============================] - 0s 234us/step - loss: 0.0103 - val_loss: 0.0142\n",
            "Epoch 41/50\n",
            "1456/1456 [==============================] - 0s 256us/step - loss: 0.0103 - val_loss: 0.0142\n",
            "Epoch 42/50\n",
            "1456/1456 [==============================] - 0s 229us/step - loss: 0.0103 - val_loss: 0.0142\n",
            "Epoch 43/50\n",
            "1456/1456 [==============================] - 0s 231us/step - loss: 0.0103 - val_loss: 0.0142\n",
            "Epoch 44/50\n",
            "1456/1456 [==============================] - 0s 216us/step - loss: 0.0102 - val_loss: 0.0142\n",
            "Epoch 45/50\n",
            "1456/1456 [==============================] - 0s 235us/step - loss: 0.0102 - val_loss: 0.0142\n",
            "Epoch 46/50\n",
            "1456/1456 [==============================] - 0s 218us/step - loss: 0.0102 - val_loss: 0.0142\n",
            "Epoch 47/50\n",
            "1456/1456 [==============================] - 0s 214us/step - loss: 0.0102 - val_loss: 0.0142\n",
            "Epoch 48/50\n",
            "1456/1456 [==============================] - 0s 227us/step - loss: 0.0102 - val_loss: 0.0142\n",
            "Epoch 49/50\n",
            "1456/1456 [==============================] - 0s 211us/step - loss: 0.0102 - val_loss: 0.0142\n",
            "Epoch 50/50\n",
            "1456/1456 [==============================] - 0s 226us/step - loss: 0.0102 - val_loss: 0.0142\n"
          ],
          "name": "stdout"
        }
      ]
    },
    {
      "cell_type": "markdown",
      "metadata": {
        "id": "-TCkGsCDYGvJ",
        "colab_type": "text"
      },
      "source": [
        "Visualize the learning curve."
      ]
    },
    {
      "cell_type": "code",
      "metadata": {
        "id": "P3eHE8CkfGKO",
        "colab_type": "code",
        "colab": {
          "base_uri": "https://localhost:8080/",
          "height": 313
        },
        "outputId": "63b8758c-2b08-4326-b306-2baacc91a3d0"
      },
      "source": [
        "plt.plot(history.history['loss'])\n",
        "plt.plot(history.history['val_loss'])\n",
        "plt.title('model loss')\n",
        "plt.ylabel('loss')\n",
        "plt.xlabel('epoch')\n",
        "plt.legend(['train', 'test'], loc='upper left')"
      ],
      "execution_count": null,
      "outputs": [
        {
          "output_type": "execute_result",
          "data": {
            "text/plain": [
              "<matplotlib.legend.Legend at 0x7f2b273d81d0>"
            ]
          },
          "metadata": {
            "tags": []
          },
          "execution_count": 24
        },
        {
          "output_type": "display_data",
          "data": {
            "image/png": "[encoded data removed]",
            "text/plain": [
              "<Figure size 432x288 with 1 Axes>"
            ]
          },
          "metadata": {
            "tags": [],
            "needs_background": "light"
          }
        }
      ]
    },
    {
      "cell_type": "markdown",
      "metadata": {
        "id": "5vQ107vGiWPw",
        "colab_type": "text"
      },
      "source": [
        "## Evaluation"
      ]
    },
    {
      "cell_type": "markdown",
      "metadata": {
        "id": "Cv_lYkSnYOgh",
        "colab_type": "text"
      },
      "source": [
        "Make predictions using the trained RNN model for the X_test (test dataset.)"
      ]
    },
    {
      "cell_type": "code",
      "metadata": {
        "id": "vOmBrkpcfz01",
        "colab_type": "code",
        "colab": {
          "base_uri": "https://localhost:8080/",
          "height": 35
        },
        "outputId": "49f25094-82ef-49c0-e883-1e1c167e7709"
      },
      "source": [
        "yhat = model.predict(X_test, batch_size=batch_size)\n",
        "yhat.shape"
      ],
      "execution_count": null,
      "outputs": [
        {
          "output_type": "execute_result",
          "data": {
            "text/plain": [
              "(892, 1)"
            ]
          },
          "metadata": {
            "tags": []
          },
          "execution_count": 25
        }
      ]
    },
    {
      "cell_type": "markdown",
      "metadata": {
        "id": "8Jvj1m4eYkX0",
        "colab_type": "text"
      },
      "source": [
        "Reshape the test dataset for calculations. (From 3D to 2D)"
      ]
    },
    {
      "cell_type": "code",
      "metadata": {
        "id": "1ihCqKwf2xQJ",
        "colab_type": "code",
        "colab": {
          "base_uri": "https://localhost:8080/",
          "height": 35
        },
        "outputId": "2a22f3ab-cb29-43a8-b420-3cdd85374374"
      },
      "source": [
        "X_test = X_test.reshape((X_test.shape[0], n_15min_interval * n_features))\n",
        "X_test.shape"
      ],
      "execution_count": null,
      "outputs": [
        {
          "output_type": "execute_result",
          "data": {
            "text/plain": [
              "(892, 32)"
            ]
          },
          "metadata": {
            "tags": []
          },
          "execution_count": 26
        }
      ]
    },
    {
      "cell_type": "markdown",
      "metadata": {
        "id": "z5qkg2BlZBPm",
        "colab_type": "text"
      },
      "source": [
        "Evaluate the accuracy using root mean square error (RMSE)"
      ]
    },
    {
      "cell_type": "code",
      "metadata": {
        "id": "tC8izqihgfme",
        "colab_type": "code",
        "colab": {
          "base_uri": "https://localhost:8080/",
          "height": 35
        },
        "outputId": "e16fc5c1-b37f-41df-89f6-7388f904a211"
      },
      "source": [
        "mse = mean_squared_error(y_test, yhat)\n",
        "rmse = np.sqrt(mse)\n",
        "rmse"
      ],
      "execution_count": null,
      "outputs": [
        {
          "output_type": "execute_result",
          "data": {
            "text/plain": [
              "0.113940805"
            ]
          },
          "metadata": {
            "tags": []
          },
          "execution_count": 27
        }
      ]
    },
    {
      "cell_type": "markdown",
      "metadata": {
        "id": "GB_ze2XoZ_qE",
        "colab_type": "text"
      },
      "source": [
        "Rescale the predictions using the min-max scaler object."
      ]
    },
    {
      "cell_type": "code",
      "metadata": {
        "id": "E5Pwxo8cggaO",
        "colab_type": "code",
        "colab": {}
      },
      "source": [
        "inv_yhat = np.concatenate((yhat, X_test[:, -7:]), axis=1)\n",
        "inv_yhat = scaler.inverse_transform(inv_yhat)\n",
        "inv_yhat = inv_yhat[:, 0]"
      ],
      "execution_count": null,
      "outputs": []
    },
    {
      "cell_type": "markdown",
      "metadata": {
        "id": "8fVilMyGaG70",
        "colab_type": "text"
      },
      "source": [
        "Rescale the test data (y_test) using the min-max scaler object."
      ]
    },
    {
      "cell_type": "code",
      "metadata": {
        "id": "xcMnQPgm3i9w",
        "colab_type": "code",
        "colab": {}
      },
      "source": [
        "y_test = y_test.reshape((len(y_test), 1))\n",
        "inv_y = np.concatenate((y_test, X_test[:, -7:]), axis=1)\n",
        "inv_y = scaler.inverse_transform(inv_y)\n",
        "inv_y = inv_y[:, 0]"
      ],
      "execution_count": null,
      "outputs": []
    },
    {
      "cell_type": "markdown",
      "metadata": {
        "id": "HPLFbErnaRW3",
        "colab_type": "text"
      },
      "source": [
        "Reformat the index of the initial dataset (i.e., date and time of each record) in a more readable format for plotting."
      ]
    },
    {
      "cell_type": "code",
      "metadata": {
        "id": "WZ1--Vgj3rMo",
        "colab_type": "code",
        "colab": {}
      },
      "source": [
        "test_date_times_desc = []\n",
        "for dt in test_date_times:\n",
        "    cur = dt.split(' ')\n",
        "    cur_t = cur[1].split(':')\n",
        "    try:\n",
        "        if cur[1] == '0:00':\n",
        "            test_date_times_desc.append(cur[0])\n",
        "        elif cur_t[1] == '00':\n",
        "            test_date_times_desc.append(cur_t[0]+':'+cur_t[1])\n",
        "        else:\n",
        "            test_date_times_desc.append('')\n",
        "    except:\n",
        "        test_date_times_desc.append('')"
      ],
      "execution_count": null,
      "outputs": []
    },
    {
      "cell_type": "markdown",
      "metadata": {
        "id": "_Vf87rARbJW-",
        "colab_type": "text"
      },
      "source": [
        "Setup plot axes for prediction plot."
      ]
    },
    {
      "cell_type": "code",
      "metadata": {
        "id": "XCXqyz9S558o",
        "colab_type": "code",
        "colab": {}
      },
      "source": [
        "x_ticks_range = range(len(inv_y))\n",
        "x_axis_labels = test_date_times_desc"
      ],
      "execution_count": null,
      "outputs": []
    },
    {
      "cell_type": "markdown",
      "metadata": {
        "id": "bGhi93SVbOVc",
        "colab_type": "text"
      },
      "source": [
        "Plot the prediction with respect to actual traffic count."
      ]
    },
    {
      "cell_type": "code",
      "metadata": {
        "id": "DCaHbVTH4rza",
        "colab_type": "code",
        "colab": {
          "base_uri": "https://localhost:8080/",
          "height": 277
        },
        "outputId": "3a21fc2e-34e7-4c03-e7da-768c10ca035c"
      },
      "source": [
        "plt.figure(figsize=(36,7))\n",
        "plt.plot(x_ticks_range, inv_y, label='actual')\n",
        "plt.plot(x_ticks_range, inv_yhat, label='predicted')\n",
        "plt.xticks(x_ticks_range, x_axis_labels, rotation=90)\n",
        "plt.legend()\n",
        "plt.ylabel('Vehicle count (per 15min)')"
      ],
      "execution_count": null,
      "outputs": [
        {
          "output_type": "execute_result",
          "data": {
            "text/plain": [
              "Text(0, 0.5, 'Vehicle count (per 15min)')"
            ]
          },
          "metadata": {
            "tags": []
          },
          "execution_count": 32
        },
        {
          "output_type": "display_data",
          "data": {
            "image/png": "[encoded data removed]",
            "text/plain": [
              "<Figure size 2592x504 with 1 Axes>"
            ]
          },
          "metadata": {
            "tags": [],
            "needs_background": "light"
          }
        }
      ]
    },
    {
      "cell_type": "code",
      "metadata": {
        "id": "PVx_1PdtYsW4",
        "colab_type": "code",
        "colab": {}
      },
      "source": [
        ""
      ],
      "execution_count": null,
      "outputs": []
    }
  ]
}